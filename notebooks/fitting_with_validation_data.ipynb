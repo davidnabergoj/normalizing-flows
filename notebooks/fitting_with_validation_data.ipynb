{
 "cells": [
  {
   "cell_type": "markdown",
   "source": [
    "# Fitting with validation data \n",
    "\n",
    "This notebook shows how using validation data can improve the normalizing flow fit.\n",
    "\n",
    "We create a synthetic example with very little training data and a flow with a very large number of layers. We show that using validation data prevents the flow from overfitting in spite of having too many parameters. "
   ],
   "metadata": {
    "collapsed": false
   },
   "id": "ea05f26c641401d0"
  },
  {
   "cell_type": "code",
   "execution_count": 1,
   "id": "initial_id",
   "metadata": {
    "collapsed": true,
    "ExecuteTime": {
     "end_time": "2023-11-09T21:11:10.440521400Z",
     "start_time": "2023-11-09T21:11:08.267904100Z"
    }
   },
   "source": [
    "import torch\n",
    "from normalizing_flows.flows import Flow\n",
    "from normalizing_flows.bijections import RealNVP"
   ],
   "outputs": []
  },
  {
   "cell_type": "code",
   "execution_count": 2,
   "source": [
    "# Create some synthetic training and validation data\n",
    "torch.manual_seed(0)\n",
    "\n",
    "event_shape = (10,)\n",
    "n_train = 100\n",
    "n_val = 20\n",
    "n_test = 10000\n",
    "\n",
    "x_train = torch.randn(n_train, *event_shape) * 2 + 4\n",
    "x_val = torch.randn(n_val, *event_shape) * 2 + 4\n",
    "x_test = torch.randn(n_test, *event_shape) * 2 + 4"
   ],
   "metadata": {
    "collapsed": false,
    "ExecuteTime": {
     "end_time": "2023-11-09T21:11:10.456694900Z",
     "start_time": "2023-11-09T21:11:10.445522900Z"
    }
   },
   "id": "21b252329b5695cf",
   "outputs": []
  },
  {
   "cell_type": "code",
   "execution_count": 3,
   "source": [
    "# Train without validation data\n",
    "torch.manual_seed(0)\n",
    "flow0 = Flow(RealNVP(event_shape, n_layers=20))\n",
    "flow0.fit(x_train, show_progress=True)"
   ],
   "metadata": {
    "collapsed": false,
    "ExecuteTime": {
     "end_time": "2023-11-09T21:11:25.777575300Z",
     "start_time": "2023-11-09T21:11:10.457694Z"
    }
   },
   "id": "b8c5703314f84814",
   "outputs": []
  },
  {
   "cell_type": "code",
   "execution_count": 4,
   "source": [
    "# Train with validation data and keep the best weights\n",
    "torch.manual_seed(0)\n",
    "flow1 = Flow(RealNVP(event_shape, n_layers=20))\n",
    "flow1.fit(x_train, show_progress=True, x_val=x_val)"
   ],
   "metadata": {
    "collapsed": false,
    "ExecuteTime": {
     "end_time": "2023-11-09T21:11:49.164216Z",
     "start_time": "2023-11-09T21:11:25.775746200Z"
    }
   },
   "id": "95d4d4e0447f1d4",
   "outputs": []
  },
  {
   "cell_type": "code",
   "execution_count": 5,
   "source": [
    "# Train with validation data, early stopping, and keep the best weights\n",
    "torch.manual_seed(0)\n",
    "flow2 = Flow(RealNVP(event_shape, n_layers=20))\n",
    "flow2.fit(x_train, show_progress=True, x_val=x_val, early_stopping=True)"
   ],
   "metadata": {
    "collapsed": false,
    "ExecuteTime": {
     "end_time": "2023-11-09T21:12:00.931776800Z",
     "start_time": "2023-11-09T21:11:49.165794100Z"
    }
   },
   "id": "2a6ff6eaea4e1323",
   "outputs": []
  },
  {
   "cell_type": "markdown",
   "source": [
    "The normalizing flow has a lot of parameters and thus overfits without validation data. The test loss is much lower when using validation data. We may stop training early after no observable validation loss improvement for a certain number of epochs (default: 50). In this experiment, validation loss does not improve after these epochs, as evidenced by the same test loss as observed without early stopping."
   ],
   "metadata": {
    "collapsed": false
   },
   "id": "84366140ce6804fe"
  },
  {
   "cell_type": "code",
   "execution_count": 6,
   "source": [
    "print(\"Test loss values\")\n",
    "print()\n",
    "print(f\"Without validation data: {torch.mean(-flow0.log_prob(x_test))}\")\n",
    "print(f\"With validation data, no early stopping: {torch.mean(-flow1.log_prob(x_test))}\")\n",
    "print(f\"With validation data, early stopping: {torch.mean(-flow2.log_prob(x_test))}\")"
   ],
   "metadata": {
    "collapsed": false,
    "ExecuteTime": {
     "end_time": "2023-11-09T21:12:01.263469Z",
     "start_time": "2023-11-09T21:12:00.925959700Z"
    }
   },
   "id": "bfaca2ae85997ee3",
   "outputs": []
  }
 ],
 "metadata": {
  "kernelspec": {
   "display_name": "Python 3",
   "language": "python",
   "name": "python3"
  },
  "language_info": {
   "codemirror_mode": {
    "name": "ipython",
    "version": 2
   },
   "file_extension": ".py",
   "mimetype": "text/x-python",
   "name": "python",
   "nbconvert_exporter": "python",
   "pygments_lexer": "ipython2",
   "version": "2.7.6"
  }
 },
 "nbformat": 4,
 "nbformat_minor": 5
}
